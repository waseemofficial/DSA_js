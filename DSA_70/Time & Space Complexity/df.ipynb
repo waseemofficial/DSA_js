{
 "cells": [
  {
   "cell_type": "markdown",
   "metadata": {},
   "source": [
    "# Big O \n",
    "## Example of constent time $$O(1)$$"
   ]
  },
  {
   "cell_type": "code",
   "execution_count": null,
   "metadata": {},
   "outputs": [],
   "source": [
    "function accessElement(arr,index){\n",
    "    return arr[index]\n",
    "}\n",
    "const arr1 = [1,2,3,4,5];\n",
    "console.time(\"Access Element\");\n",
    "console.log(accessElement(arr1,2));\n",
    "console.timeEnd(\"Access Element\");\n",
    "\n",
    "const arr2=Array.from({length:10000},(_,index)=>{\n",
    "return index + 1;\n",
    "})\n",
    "console.log(arr2);\n",
    "console.time(\"Access Element 2\");\n",
    "console.log(accessElement(arr2,100));\n",
    "console.timeEnd(\"Access Element 2\");\n"
   ]
  },
  {
   "cell_type": "markdown",
   "metadata": {},
   "source": [
    "## Example linear time $$O(n)$$"
   ]
  },
  {
   "cell_type": "code",
   "execution_count": null,
   "metadata": {},
   "outputs": [],
   "source": [
    "function sumArr(arr){\n",
    "    let sum =0;\n",
    "    for(let i=0;i<arr.length;i++){\n",
    "        sum += arr[i];\n",
    "    }\n",
    "    return sum;\n",
    "}\n",
    "const arr1 =[1,2,3,4,5];\n",
    "console.time(\"Sum Array\");\n",
    "console.log(sumArr(arr1));\n",
    "console.timeEnd(\"Sum Array\");\n",
    "\n",
    "const arr2=Array.from({length:10000},(_,index)=> index + 1);\n",
    "console.log(arr2);\n",
    "console.time(\"Sum Array 2\");\n",
    "console.log(sumArr(arr2));\n",
    "console.timeEnd(\"Sum Array 2\");    "
   ]
  },
  {
   "cell_type": "markdown",
   "metadata": {},
   "source": [
    "## Example Quadradic time $$O(n)$$"
   ]
  },
  {
   "cell_type": "code",
   "execution_count": null,
   "metadata": {},
   "outputs": [],
   "source": [
    "function sumArr(arr){\n",
    "    let  sum=0;\n",
    "    let sum2=0;\n",
    "    for (let i=0;i<arr.length;i++){\n",
    "    sum += arr[i];\n",
    "    for(let j=0;j<arr.length;j++){\n",
    "        sum2 += arr[j];\n",
    "    }\n",
    "    }\n",
    "return sum+sum2;\n",
    "}\n",
    "const arr1 =[1,2,3,4,5];\n",
    "console.time(\"Sum Array\");\n",
    "console.log(sumArr(arr1));\n",
    "console.timeEnd(\"Sum Array\");\n",
    "\n",
    "const arr2=Array.from({length:10000},(_,index)=> index + 1);\n",
    "console.log(arr2);\n",
    "console.time(\"Sum Array 2\");\n",
    "console.log(sumArr(arr2));\n",
    "console.timeEnd(\"Sum Array 2\");"
   ]
  },
  {
   "cell_type": "markdown",
   "metadata": {},
   "source": [
    "## Logarithmic Time $$O(\\log{n})$$"
   ]
  },
  {
   "cell_type": "code",
   "execution_count": null,
   "metadata": {},
   "outputs": [],
   "source": [
    "function findPower(base,exponent){\n",
    "    if(exponent===0){\n",
    "        return 1;\n",
    "    }\n",
    "if(exponent%2===0){\n",
    "    const halfPower=findPower(base,exponent/2);\n",
    "    return halfPower * halfPower;\n",
    "} else {\n",
    "    const halfPower= findPower(base,(exponent-1)/2);\n",
    "    return base * halfPower * halfPower;\n",
    "}\n",
    "}\n",
    "\n",
    "\n",
    "console.time(\"Find Power\");\n",
    "findPower(2,100);\n",
    "console.timeEnd(\"Find Power\");\n",
    "\n",
    "\n",
    "console.time(\"Find Power 2\");\n",
    "findPower(2,1000000);\n",
    "console.timeEnd(\"Find Power 2\");    "
   ]
  },
  {
   "cell_type": "markdown",
   "metadata": {},
   "source": [
    "# Space Complexity"
   ]
  }
 ],
 "metadata": {
  "kernelspec": {
   "display_name": "JavaScript (Node.js)",
   "language": "javascript",
   "name": "javascript"
  },
  "language_info": {
   "codemirror_mode": {
    "name": "ipython",
    "version": 3
   },
   "file_extension": ".py",
   "mimetype": "text/x-python",
   "name": "javascript",
   "nbconvert_exporter": "python",
   "pygments_lexer": "ipython3",
   "version": "3.11.5"
  }
 },
 "nbformat": 4,
 "nbformat_minor": 2
}
