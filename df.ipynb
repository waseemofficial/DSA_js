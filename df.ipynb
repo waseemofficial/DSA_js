{
 "cells": [
  {
   "cell_type": "code",
   "execution_count": null,
   "metadata": {},
   "outputs": [
    {
     "ename": "",
     "evalue": "",
     "output_type": "error",
     "traceback": [
      "\u001b[1;31mFailed to start the Kernel. \n",
      "\u001b[1;31mC:\\Users\\ACER\\AppData\\Roaming\\npm\\node_modules\\ijavascript\\node_modules\\node-gyp-build\\node-gyp-build.js:60\n",
      "\u001b[1;31m  throw new Error('No native build was found for ' + target + '\\n    loaded from: ' + dir + '\\n')\n",
      "\u001b[1;31m  ^\n",
      "\u001b[1;31m\n",
      "\u001b[1;31mError: No native build was found for platform=win32 arch=x64 runtime=electron abi=115 uv=1 libc=glibc node=20.7.0\n",
      "\u001b[1;31m    loaded from: C:\\Users\\ACER\\AppData\\Roaming\\npm\\node_modules\\ijavascript\\node_modules\\zeromq\n",
      "\u001b[1;31m\n",
      "\u001b[1;31m    at load.resolve.load.path (C:\\Users\\ACER\\AppData\\Roaming\\npm\\node_modules\\ijavascript\\node_modules\\node-gyp-build\\node-gyp-build.js:60:9)\n",
      "\u001b[1;31m    at load (C:\\Users\\ACER\\AppData\\Roaming\\npm\\node_modules\\ijavascript\\node_modules\\node-gyp-build\\node-gyp-build.js:22:30)\n",
      "\u001b[1;31m    at Object.<anonymous> (C:\\Users\\ACER\\AppData\\Roaming\\npm\\node_modules\\ijavascript\\node_modules\\zeromq\\binding.js:1:43)\n",
      "\u001b[1;31m    at Module._compile (node:internal/modules/cjs/loader:1241:14)\n",
      "\u001b[1;31m    at Module._extensions..js (node:internal/modules/cjs/loader:1295:10)\n",
      "\u001b[1;31m    at Module.load (node:internal/modules/cjs/loader:1091:32)\n",
      "\u001b[1;31m    at Module._load (node:internal/modules/cjs/loader:938:12)\n",
      "\u001b[1;31m    at Module.require (node:internal/modules/cjs/loader:1115:19)\n",
      "\u001b[1;31m    at require (node:internal/modules/helpers:130:18)\n",
      "\u001b[1;31m    at Object.<anonymous> (C:\\Users\\ACER\\AppData\\Roaming\\npm\\node_modules\\ijavascript\\node_modules\\zeromq\\lib\\index.js:6:11)\n",
      "\u001b[1;31m\n",
      "\u001b[1;31mNode.js v20.7.0. \n",
      "\u001b[1;31mView Jupyter <a href='command:jupyter.viewOutput'>log</a> for further details."
     ]
    }
   ],
   "source": [
    "console.log(\"hi\")"
   ]
  }
 ],
 "metadata": {
  "kernelspec": {
   "display_name": "JavaScript (Node.js)",
   "language": "javascript",
   "name": "javascript"
  },
  "language_info": {
   "codemirror_mode": {
    "name": "ipython",
    "version": 3
   },
   "file_extension": ".py",
   "mimetype": "text/x-python",
   "name": "javascript",
   "nbconvert_exporter": "python",
   "pygments_lexer": "ipython3",
   "version": "3.11.5"
  }
 },
 "nbformat": 4,
 "nbformat_minor": 2
}
